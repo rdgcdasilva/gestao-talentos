{
 "cells": [
  {
   "cell_type": "code",
   "execution_count": 264,
   "metadata": {},
   "outputs": [],
   "source": [
    "import pandas as pd\n",
    "import numpy as np\n",
    "import matplotlib.pyplot as plt\n",
    "import seaborn as sns\n",
    "%matplotlib inline\n"
   ]
  },
  {
   "cell_type": "code",
   "execution_count": 265,
   "metadata": {},
   "outputs": [],
   "source": [
    "dados_ml= pd.read_excel('dados_ml_balanceado.xlsx', sheet_name= 'Plan1')"
   ]
  },
  {
   "cell_type": "code",
   "execution_count": 458,
   "metadata": {},
   "outputs": [],
   "source": [
    "dados_exp = pd.read_excel('dados_exp.xlsx', sheet_name= 'Plan1')"
   ]
  },
  {
   "cell_type": "code",
   "execution_count": 440,
   "metadata": {
    "scrolled": true
   },
   "outputs": [
    {
     "data": {
      "text/html": [
       "<div>\n",
       "<style scoped>\n",
       "    .dataframe tbody tr th:only-of-type {\n",
       "        vertical-align: middle;\n",
       "    }\n",
       "\n",
       "    .dataframe tbody tr th {\n",
       "        vertical-align: top;\n",
       "    }\n",
       "\n",
       "    .dataframe thead th {\n",
       "        text-align: right;\n",
       "    }\n",
       "</style>\n",
       "<table border=\"1\" class=\"dataframe\">\n",
       "  <thead>\n",
       "    <tr style=\"text-align: right;\">\n",
       "      <th></th>\n",
       "      <th>Idempresacorreto</th>\n",
       "      <th>idfunc</th>\n",
       "      <th>150M</th>\n",
       "      <th>Tipinstitu</th>\n",
       "      <th>origcapital</th>\n",
       "      <th>capitaberto</th>\n",
       "      <th>setor</th>\n",
       "      <th>operação no Brasil</th>\n",
       "      <th>fx_tempregados</th>\n",
       "      <th>rotgeral</th>\n",
       "      <th>...</th>\n",
       "      <th>cltfx</th>\n",
       "      <th>fxtempempr</th>\n",
       "      <th>fx_cargo</th>\n",
       "      <th>fx_salario</th>\n",
       "      <th>fx_localtrab</th>\n",
       "      <th>fx_escol</th>\n",
       "      <th>catSexo</th>\n",
       "      <th>cat_retnaemp</th>\n",
       "      <th>categ_futnaemp</th>\n",
       "      <th>fx_desemp</th>\n",
       "    </tr>\n",
       "  </thead>\n",
       "  <tbody>\n",
       "    <tr>\n",
       "      <th>0</th>\n",
       "      <td>9</td>\n",
       "      <td>72355</td>\n",
       "      <td>2</td>\n",
       "      <td>Empresa privada</td>\n",
       "      <td>Nacional</td>\n",
       "      <td>Sim</td>\n",
       "      <td>Serviços</td>\n",
       "      <td>De 11 a 30 anos</td>\n",
       "      <td>De 1501 a 5000 empregados</td>\n",
       "      <td>De 21% a 30% do quadro de funcionários</td>\n",
       "      <td>...</td>\n",
       "      <td>Sim</td>\n",
       "      <td>De 6 meses a 1 ano incompleto</td>\n",
       "      <td>Administrativo</td>\n",
       "      <td>De R$ 954,01 a R$ 1908,00</td>\n",
       "      <td>Escritório / Corporativo / Administrativo</td>\n",
       "      <td>Curso Superior (Bacharelado, Licenciatura ou H...</td>\n",
       "      <td>Masculino</td>\n",
       "      <td>Remuneração e Benefícios</td>\n",
       "      <td>2-Entre 1 e 3 anos</td>\n",
       "      <td>A_M</td>\n",
       "    </tr>\n",
       "    <tr>\n",
       "      <th>1</th>\n",
       "      <td>74</td>\n",
       "      <td>224974</td>\n",
       "      <td>1</td>\n",
       "      <td>Empresa privada</td>\n",
       "      <td>Nacional</td>\n",
       "      <td>Não</td>\n",
       "      <td>Serviços</td>\n",
       "      <td>De 11 a 30 anos</td>\n",
       "      <td>De 1501 a 5000 empregados</td>\n",
       "      <td>Acima de 30% do quadro de funcionários</td>\n",
       "      <td>...</td>\n",
       "      <td>Sim</td>\n",
       "      <td>De 6 meses a 1 ano incompleto</td>\n",
       "      <td>Vendedor</td>\n",
       "      <td>De R$ 954,01 a R$ 1908,00</td>\n",
       "      <td>Escritório / Corporativo / Administrativo</td>\n",
       "      <td>Curso Superior (Bacharelado, Licenciatura ou H...</td>\n",
       "      <td>Masculino</td>\n",
       "      <td>Satisfação com o Trabalho</td>\n",
       "      <td>2-Entre 1 e 3 anos</td>\n",
       "      <td>A_M</td>\n",
       "    </tr>\n",
       "    <tr>\n",
       "      <th>2</th>\n",
       "      <td>165</td>\n",
       "      <td>118267</td>\n",
       "      <td>1</td>\n",
       "      <td>Empresa privada</td>\n",
       "      <td>Nacional</td>\n",
       "      <td>Não</td>\n",
       "      <td>Serviços</td>\n",
       "      <td>De 11 a 30 anos</td>\n",
       "      <td>De 1501 a 5000 empregados</td>\n",
       "      <td>Acima de 30% do quadro de funcionários</td>\n",
       "      <td>...</td>\n",
       "      <td>Sim</td>\n",
       "      <td>De 6 meses a 1 ano incompleto</td>\n",
       "      <td>Vendedor</td>\n",
       "      <td>De R$ 954,01 a R$ 1908,00</td>\n",
       "      <td>Loja / Atendimento ao consumidor / Agência / C...</td>\n",
       "      <td>Curso Superior (Bacharelado, Licenciatura ou H...</td>\n",
       "      <td>Masculino</td>\n",
       "      <td>Remuneração e Benefícios</td>\n",
       "      <td>2-Entre 1 e 3 anos</td>\n",
       "      <td>A_M</td>\n",
       "    </tr>\n",
       "    <tr>\n",
       "      <th>3</th>\n",
       "      <td>209</td>\n",
       "      <td>15784</td>\n",
       "      <td>1</td>\n",
       "      <td>Empresa privada</td>\n",
       "      <td>Nacional</td>\n",
       "      <td>Não</td>\n",
       "      <td>Serviços</td>\n",
       "      <td>Até 10 anos</td>\n",
       "      <td>Até 500 empregados</td>\n",
       "      <td>Acima de 30% do quadro de funcionários</td>\n",
       "      <td>...</td>\n",
       "      <td>Sim</td>\n",
       "      <td>De 6 meses a 1 ano incompleto</td>\n",
       "      <td>Supervisor / Coordenador</td>\n",
       "      <td>De R$ 3816,01 a R$ 5724,00</td>\n",
       "      <td>Escritório / Corporativo / Administrativo</td>\n",
       "      <td>Curso Superior (Bacharelado, Licenciatura ou H...</td>\n",
       "      <td>Masculino</td>\n",
       "      <td>Relacionamentos</td>\n",
       "      <td>2-Entre 1 e 3 anos</td>\n",
       "      <td>A_M</td>\n",
       "    </tr>\n",
       "    <tr>\n",
       "      <th>4</th>\n",
       "      <td>26</td>\n",
       "      <td>228084</td>\n",
       "      <td>2</td>\n",
       "      <td>Empresa privada</td>\n",
       "      <td>Multinacional</td>\n",
       "      <td>Sim</td>\n",
       "      <td>Agronegócio</td>\n",
       "      <td>Acima de 30 anos</td>\n",
       "      <td>De 1501 a 5000 empregados</td>\n",
       "      <td>De 11% a 20% do quadro de funcionários</td>\n",
       "      <td>...</td>\n",
       "      <td>Sim</td>\n",
       "      <td>De 1 a 2 anos incompletos</td>\n",
       "      <td>Supervisor / Coordenador</td>\n",
       "      <td>De R$ 11448,01 a R$ 15264,00</td>\n",
       "      <td>Fábrica / Produção / Agrícola / Obra / Laborat...</td>\n",
       "      <td>Curso Superior (Bacharelado, Licenciatura ou H...</td>\n",
       "      <td>Masculino</td>\n",
       "      <td>Prestígio Organizacional</td>\n",
       "      <td>2-Entre 1 e 3 anos</td>\n",
       "      <td>A_M</td>\n",
       "    </tr>\n",
       "  </tbody>\n",
       "</table>\n",
       "<p>5 rows × 37 columns</p>\n",
       "</div>"
      ],
      "text/plain": [
       "   Idempresacorreto  idfunc  150M       Tipinstitu    origcapital capitaberto  \\\n",
       "0                 9   72355     2  Empresa privada       Nacional         Sim   \n",
       "1                74  224974     1  Empresa privada       Nacional         Não   \n",
       "2               165  118267     1  Empresa privada       Nacional         Não   \n",
       "3               209   15784     1  Empresa privada       Nacional         Não   \n",
       "4                26  228084     2  Empresa privada  Multinacional         Sim   \n",
       "\n",
       "         setor operação no Brasil             fx_tempregados  \\\n",
       "0     Serviços    De 11 a 30 anos  De 1501 a 5000 empregados   \n",
       "1     Serviços    De 11 a 30 anos  De 1501 a 5000 empregados   \n",
       "2     Serviços    De 11 a 30 anos  De 1501 a 5000 empregados   \n",
       "3     Serviços        Até 10 anos         Até 500 empregados   \n",
       "4  Agronegócio   Acima de 30 anos  De 1501 a 5000 empregados   \n",
       "\n",
       "                                 rotgeral  ... cltfx  \\\n",
       "0  De 21% a 30% do quadro de funcionários  ...   Sim   \n",
       "1  Acima de 30% do quadro de funcionários  ...   Sim   \n",
       "2  Acima de 30% do quadro de funcionários  ...   Sim   \n",
       "3  Acima de 30% do quadro de funcionários  ...   Sim   \n",
       "4  De 11% a 20% do quadro de funcionários  ...   Sim   \n",
       "\n",
       "                      fxtempempr                  fx_cargo  \\\n",
       "0  De 6 meses a 1 ano incompleto            Administrativo   \n",
       "1  De 6 meses a 1 ano incompleto                  Vendedor   \n",
       "2  De 6 meses a 1 ano incompleto                  Vendedor   \n",
       "3  De 6 meses a 1 ano incompleto  Supervisor / Coordenador   \n",
       "4      De 1 a 2 anos incompletos  Supervisor / Coordenador   \n",
       "\n",
       "                     fx_salario  \\\n",
       "0     De R$ 954,01 a R$ 1908,00   \n",
       "1     De R$ 954,01 a R$ 1908,00   \n",
       "2     De R$ 954,01 a R$ 1908,00   \n",
       "3    De R$ 3816,01 a R$ 5724,00   \n",
       "4  De R$ 11448,01 a R$ 15264,00   \n",
       "\n",
       "                                        fx_localtrab  \\\n",
       "0          Escritório / Corporativo / Administrativo   \n",
       "1          Escritório / Corporativo / Administrativo   \n",
       "2  Loja / Atendimento ao consumidor / Agência / C...   \n",
       "3          Escritório / Corporativo / Administrativo   \n",
       "4  Fábrica / Produção / Agrícola / Obra / Laborat...   \n",
       "\n",
       "                                            fx_escol    catSexo  \\\n",
       "0  Curso Superior (Bacharelado, Licenciatura ou H...  Masculino   \n",
       "1  Curso Superior (Bacharelado, Licenciatura ou H...  Masculino   \n",
       "2  Curso Superior (Bacharelado, Licenciatura ou H...  Masculino   \n",
       "3  Curso Superior (Bacharelado, Licenciatura ou H...  Masculino   \n",
       "4  Curso Superior (Bacharelado, Licenciatura ou H...  Masculino   \n",
       "\n",
       "                cat_retnaemp      categ_futnaemp  fx_desemp  \n",
       "0   Remuneração e Benefícios  2-Entre 1 e 3 anos        A_M  \n",
       "1  Satisfação com o Trabalho  2-Entre 1 e 3 anos        A_M  \n",
       "2   Remuneração e Benefícios  2-Entre 1 e 3 anos        A_M  \n",
       "3            Relacionamentos  2-Entre 1 e 3 anos        A_M  \n",
       "4  Prestígio Organizacional   2-Entre 1 e 3 anos        A_M  \n",
       "\n",
       "[5 rows x 37 columns]"
      ]
     },
     "execution_count": 440,
     "metadata": {},
     "output_type": "execute_result"
    }
   ],
   "source": [
    "dados_exp.head()"
   ]
  },
  {
   "cell_type": "markdown",
   "metadata": {},
   "source": [
    "# Definição de variáveis"
   ]
  },
  {
   "cell_type": "code",
   "execution_count": 270,
   "metadata": {},
   "outputs": [],
   "source": [
    "y = dados_ml['fx_desemp']"
   ]
  },
  {
   "cell_type": "code",
   "execution_count": 269,
   "metadata": {},
   "outputs": [],
   "source": [
    "x1 = dados_ml[['150m', 'tipinstitu','genz','origcapital', 'capitaberto', 'setor', 'anos de operação no Brasil', 'totempr', 'prevquadro', 'rotgeral', 'clt', 'tempempr', 'cargo', 'fxsalarial', 'loctrab', 'sexo', 'retnaemp', 'escolaridade', 'meb', 'mci', 'mpa', 'msd', 'mri', 'mgc', 'mpo', 'mqvt', 'medc', 'mlid', 'mrec', 'mestr', 'rot_vol', 'categ_futnaemp']]"
   ]
  },
  {
   "cell_type": "markdown",
   "metadata": {},
   "source": [
    "# Análise exploratória"
   ]
  },
  {
   "cell_type": "code",
   "execution_count": 117,
   "metadata": {},
   "outputs": [],
   "source": [
    "explorat1= dados_exp.pivot_table(values= ['emp.brand','com.int','part.aut','sust.diver','rel.int','carr','pro.org','qvt','educ.corp','lid','recomp','estr.obj'],index='cat_retnaemp',columns='fx_desemp')"
   ]
  },
  {
   "cell_type": "code",
   "execution_count": 437,
   "metadata": {},
   "outputs": [],
   "source": [
    "explorat2= dados_exp.pivot_table(values= ['emp.brand','com.int','part.aut','sust.diver','rel.int','carr','pro.org','qvt','educ.corp','lid','recomp','estr.obj'],index='categ_futnaemp',columns='fx_desemp')"
   ]
  },
  {
   "cell_type": "code",
   "execution_count": 459,
   "metadata": {},
   "outputs": [],
   "source": [
    "explorat3= dados_exp.pivot_table(values= ['emp.brand','com.int','part.aut','sust.diver','rel.int','carr','pro.org','qvt','educ.corp','lid','recomp','estr.obj'],index='fx_rotatividadevol',columns='fx_desemp')"
   ]
  },
  {
   "cell_type": "code",
   "execution_count": 120,
   "metadata": {},
   "outputs": [
    {
     "data": {
      "text/plain": [
       "<matplotlib.axes._subplots.AxesSubplot at 0x19f65ccd518>"
      ]
     },
     "execution_count": 120,
     "metadata": {},
     "output_type": "execute_result"
    },
    {
     "data": {
      "image/png": "[encoded data removed]",
      "text/plain": [
       "<Figure size 432x288 with 2 Axes>"
      ]
     },
     "metadata": {},
     "output_type": "display_data"
    }
   ],
   "source": [
    "sns.heatmap(explorat1,cmap='magma',linecolor='white',linewidths=1)"
   ]
  },
  {
   "cell_type": "code",
   "execution_count": 436,
   "metadata": {},
   "outputs": [
    {
     "data": {
      "text/plain": [
       "<matplotlib.axes._subplots.AxesSubplot at 0x19f6f9fe3c8>"
      ]
     },
     "execution_count": 436,
     "metadata": {},
     "output_type": "execute_result"
    },
    {
     "data": {
      "image/png": "[encoded data removed]",
      "text/plain": [
       "<Figure size 432x288 with 2 Axes>"
      ]
     },
     "metadata": {},
     "output_type": "display_data"
    }
   ],
   "source": [
    "sns.heatmap(explorat2,cmap='magma',linecolor='white',linewidths=1)"
   ]
  },
  {
   "cell_type": "code",
   "execution_count": 460,
   "metadata": {},
   "outputs": [
    {
     "data": {
      "text/plain": [
       "<matplotlib.axes._subplots.AxesSubplot at 0x19f70c0c780>"
      ]
     },
     "execution_count": 460,
     "metadata": {},
     "output_type": "execute_result"
    },
    {
     "data": {
      "image/png": "[encoded data removed]",
      "text/plain": [
       "<Figure size 432x288 with 2 Axes>"
      ]
     },
     "metadata": {},
     "output_type": "display_data"
    }
   ],
   "source": [
    "sns.heatmap(explorat3,cmap='magma',linecolor='white',linewidths=1)"
   ]
  },
  {
   "cell_type": "markdown",
   "metadata": {},
   "source": [
    "# Modelo para prever desempenho (Regressão Logística)"
   ]
  },
  {
   "cell_type": "code",
   "execution_count": 419,
   "metadata": {},
   "outputs": [],
   "source": [
    "from sklearn.model_selection import train_test_split"
   ]
  },
  {
   "cell_type": "code",
   "execution_count": 420,
   "metadata": {},
   "outputs": [],
   "source": [
    "x1_train, x1_test, y_train, y_test = train_test_split(x1, y, test_size=0.20, \n",
    "                                                    random_state=101)"
   ]
  },
  {
   "cell_type": "code",
   "execution_count": 421,
   "metadata": {},
   "outputs": [],
   "source": [
    "from sklearn.linear_model import LogisticRegression"
   ]
  },
  {
   "cell_type": "code",
   "execution_count": 422,
   "metadata": {},
   "outputs": [
    {
     "name": "stderr",
     "output_type": "stream",
     "text": [
      "C:\\Users\\silva\\Anaconda3\\lib\\site-packages\\sklearn\\linear_model\\logistic.py:433: FutureWarning: Default solver will be changed to 'lbfgs' in 0.22. Specify a solver to silence this warning.\n",
      "  FutureWarning)\n"
     ]
    },
    {
     "data": {
      "text/plain": [
       "LogisticRegression(C=1.0, class_weight=None, dual=False, fit_intercept=True,\n",
       "          intercept_scaling=1, max_iter=100, multi_class='warn',\n",
       "          n_jobs=None, penalty='l2', random_state=None, solver='warn',\n",
       "          tol=0.0001, verbose=0, warm_start=False)"
      ]
     },
     "execution_count": 422,
     "metadata": {},
     "output_type": "execute_result"
    }
   ],
   "source": [
    "logmodel = LogisticRegression()\n",
    "logmodel.fit(x1_train,y_train)"
   ]
  },
  {
   "cell_type": "code",
   "execution_count": 423,
   "metadata": {},
   "outputs": [],
   "source": [
    "predictions = logmodel.predict(x1_test)"
   ]
  },
  {
   "cell_type": "code",
   "execution_count": 424,
   "metadata": {},
   "outputs": [],
   "source": [
    "from sklearn.metrics import classification_report\n",
    "from sklearn.metrics import confusion_matrix, accuracy_score"
   ]
  },
  {
   "cell_type": "code",
   "execution_count": 425,
   "metadata": {},
   "outputs": [
    {
     "name": "stdout",
     "output_type": "stream",
     "text": [
      "              precision    recall  f1-score   support\n",
      "\n",
      "           1       0.75      0.70      0.73       258\n",
      "           2       0.70      0.75      0.73       240\n",
      "\n",
      "   micro avg       0.73      0.73      0.73       498\n",
      "   macro avg       0.73      0.73      0.73       498\n",
      "weighted avg       0.73      0.73      0.73       498\n",
      "\n"
     ]
    }
   ],
   "source": [
    "print(classification_report(y_test,predictions))"
   ]
  },
  {
   "cell_type": "code",
   "execution_count": 426,
   "metadata": {},
   "outputs": [],
   "source": [
    "taxa_acerto = accuracy_score(y_test, predictions)"
   ]
  },
  {
   "cell_type": "code",
   "execution_count": 427,
   "metadata": {},
   "outputs": [
    {
     "data": {
      "text/plain": [
       "0.7269076305220884"
      ]
     },
     "execution_count": 427,
     "metadata": {},
     "output_type": "execute_result"
    }
   ],
   "source": [
    "taxa_acerto"
   ]
  },
  {
   "cell_type": "code",
   "execution_count": 428,
   "metadata": {},
   "outputs": [],
   "source": [
    "predictions = logmodel.predict_proba(x1_test)"
   ]
  },
  {
   "cell_type": "code",
   "execution_count": 429,
   "metadata": {},
   "outputs": [],
   "source": [
    "naot= ['Não é talento']\n",
    "simt= ['É talento']"
   ]
  },
  {
   "cell_type": "code",
   "execution_count": 433,
   "metadata": {},
   "outputs": [],
   "source": [
    "predictions = pd.DataFrame(predictions, columns= (naot, simt)).round(2)"
   ]
  },
  {
   "cell_type": "code",
   "execution_count": 434,
   "metadata": {},
   "outputs": [],
   "source": [
    "\n",
    "final= pd.concat([x1_test.reset_index(), y_test.reset_index(), predictions], axis=1)"
   ]
  },
  {
   "cell_type": "code",
   "execution_count": 435,
   "metadata": {},
   "outputs": [
    {
     "data": {
      "text/html": [
       "<div>\n",
       "<style scoped>\n",
       "    .dataframe tbody tr th:only-of-type {\n",
       "        vertical-align: middle;\n",
       "    }\n",
       "\n",
       "    .dataframe tbody tr th {\n",
       "        vertical-align: top;\n",
       "    }\n",
       "\n",
       "    .dataframe thead th {\n",
       "        text-align: right;\n",
       "    }\n",
       "</style>\n",
       "<table border=\"1\" class=\"dataframe\">\n",
       "  <thead>\n",
       "    <tr style=\"text-align: right;\">\n",
       "      <th></th>\n",
       "      <th>index</th>\n",
       "      <th>150m</th>\n",
       "      <th>tipinstitu</th>\n",
       "      <th>genz</th>\n",
       "      <th>origcapital</th>\n",
       "      <th>capitaberto</th>\n",
       "      <th>setor</th>\n",
       "      <th>anos de operação no Brasil</th>\n",
       "      <th>totempr</th>\n",
       "      <th>prevquadro</th>\n",
       "      <th>...</th>\n",
       "      <th>medc</th>\n",
       "      <th>mlid</th>\n",
       "      <th>mrec</th>\n",
       "      <th>mestr</th>\n",
       "      <th>rot_vol</th>\n",
       "      <th>categ_futnaemp</th>\n",
       "      <th>index</th>\n",
       "      <th>fx_desemp</th>\n",
       "      <th>(Não é talento,)</th>\n",
       "      <th>(É talento,)</th>\n",
       "    </tr>\n",
       "  </thead>\n",
       "  <tbody>\n",
       "    <tr>\n",
       "      <th>0</th>\n",
       "      <td>1847</td>\n",
       "      <td>1</td>\n",
       "      <td>1</td>\n",
       "      <td>1</td>\n",
       "      <td>2</td>\n",
       "      <td>1</td>\n",
       "      <td>5</td>\n",
       "      <td>35</td>\n",
       "      <td>2</td>\n",
       "      <td>2</td>\n",
       "      <td>...</td>\n",
       "      <td>4.571429</td>\n",
       "      <td>4.7</td>\n",
       "      <td>4.25</td>\n",
       "      <td>4.25</td>\n",
       "      <td>1.969873</td>\n",
       "      <td>5</td>\n",
       "      <td>1847</td>\n",
       "      <td>2</td>\n",
       "      <td>0.18</td>\n",
       "      <td>0.82</td>\n",
       "    </tr>\n",
       "    <tr>\n",
       "      <th>1</th>\n",
       "      <td>355</td>\n",
       "      <td>1</td>\n",
       "      <td>1</td>\n",
       "      <td>3</td>\n",
       "      <td>2</td>\n",
       "      <td>1</td>\n",
       "      <td>5</td>\n",
       "      <td>40</td>\n",
       "      <td>2</td>\n",
       "      <td>1</td>\n",
       "      <td>...</td>\n",
       "      <td>3.571429</td>\n",
       "      <td>3.9</td>\n",
       "      <td>3.25</td>\n",
       "      <td>4.00</td>\n",
       "      <td>3.888025</td>\n",
       "      <td>6</td>\n",
       "      <td>355</td>\n",
       "      <td>1</td>\n",
       "      <td>0.36</td>\n",
       "      <td>0.64</td>\n",
       "    </tr>\n",
       "    <tr>\n",
       "      <th>2</th>\n",
       "      <td>2087</td>\n",
       "      <td>1</td>\n",
       "      <td>2</td>\n",
       "      <td>1</td>\n",
       "      <td>1</td>\n",
       "      <td>1</td>\n",
       "      <td>4</td>\n",
       "      <td>60</td>\n",
       "      <td>2</td>\n",
       "      <td>1</td>\n",
       "      <td>...</td>\n",
       "      <td>5.000000</td>\n",
       "      <td>5.0</td>\n",
       "      <td>5.00</td>\n",
       "      <td>5.00</td>\n",
       "      <td>5.258900</td>\n",
       "      <td>5</td>\n",
       "      <td>2087</td>\n",
       "      <td>2</td>\n",
       "      <td>0.24</td>\n",
       "      <td>0.76</td>\n",
       "    </tr>\n",
       "    <tr>\n",
       "      <th>3</th>\n",
       "      <td>2023</td>\n",
       "      <td>1</td>\n",
       "      <td>2</td>\n",
       "      <td>3</td>\n",
       "      <td>2</td>\n",
       "      <td>1</td>\n",
       "      <td>5</td>\n",
       "      <td>126</td>\n",
       "      <td>2</td>\n",
       "      <td>2</td>\n",
       "      <td>...</td>\n",
       "      <td>3.000000</td>\n",
       "      <td>2.9</td>\n",
       "      <td>3.25</td>\n",
       "      <td>2.25</td>\n",
       "      <td>13.274336</td>\n",
       "      <td>3</td>\n",
       "      <td>2023</td>\n",
       "      <td>2</td>\n",
       "      <td>0.73</td>\n",
       "      <td>0.27</td>\n",
       "    </tr>\n",
       "    <tr>\n",
       "      <th>4</th>\n",
       "      <td>59</td>\n",
       "      <td>1</td>\n",
       "      <td>2</td>\n",
       "      <td>3</td>\n",
       "      <td>2</td>\n",
       "      <td>1</td>\n",
       "      <td>5</td>\n",
       "      <td>27</td>\n",
       "      <td>1</td>\n",
       "      <td>3</td>\n",
       "      <td>...</td>\n",
       "      <td>4.857143</td>\n",
       "      <td>5.0</td>\n",
       "      <td>5.00</td>\n",
       "      <td>5.00</td>\n",
       "      <td>5.533597</td>\n",
       "      <td>3</td>\n",
       "      <td>59</td>\n",
       "      <td>1</td>\n",
       "      <td>0.16</td>\n",
       "      <td>0.84</td>\n",
       "    </tr>\n",
       "  </tbody>\n",
       "</table>\n",
       "<p>5 rows × 37 columns</p>\n",
       "</div>"
      ],
      "text/plain": [
       "   index  150m  tipinstitu  genz  origcapital  capitaberto  setor  \\\n",
       "0   1847     1           1     1            2            1      5   \n",
       "1    355     1           1     3            2            1      5   \n",
       "2   2087     1           2     1            1            1      4   \n",
       "3   2023     1           2     3            2            1      5   \n",
       "4     59     1           2     3            2            1      5   \n",
       "\n",
       "   anos de operação no Brasil  totempr  prevquadro  ...      medc  mlid  mrec  \\\n",
       "0                          35        2           2  ...  4.571429   4.7  4.25   \n",
       "1                          40        2           1  ...  3.571429   3.9  3.25   \n",
       "2                          60        2           1  ...  5.000000   5.0  5.00   \n",
       "3                         126        2           2  ...  3.000000   2.9  3.25   \n",
       "4                          27        1           3  ...  4.857143   5.0  5.00   \n",
       "\n",
       "   mestr    rot_vol  categ_futnaemp  index  fx_desemp  (Não é talento,)  \\\n",
       "0   4.25   1.969873               5   1847          2              0.18   \n",
       "1   4.00   3.888025               6    355          1              0.36   \n",
       "2   5.00   5.258900               5   2087          2              0.24   \n",
       "3   2.25  13.274336               3   2023          2              0.73   \n",
       "4   5.00   5.533597               3     59          1              0.16   \n",
       "\n",
       "   (É talento,)  \n",
       "0          0.82  \n",
       "1          0.64  \n",
       "2          0.76  \n",
       "3          0.27  \n",
       "4          0.84  \n",
       "\n",
       "[5 rows x 37 columns]"
      ]
     },
     "execution_count": 435,
     "metadata": {},
     "output_type": "execute_result"
    }
   ],
   "source": [
    "final.head()"
   ]
  },
  {
   "cell_type": "code",
   "execution_count": 356,
   "metadata": {},
   "outputs": [
    {
     "data": {
      "text/plain": [
       "<function ndarray.round>"
      ]
     },
     "execution_count": 356,
     "metadata": {},
     "output_type": "execute_result"
    }
   ],
   "source": [
    "logmodel.coef_.round"
   ]
  },
  {
   "cell_type": "code",
   "execution_count": 357,
   "metadata": {},
   "outputs": [],
   "source": [
    "betas= ['betas']\n",
    "coef = pd.DataFrame(data=logmodel.coef_, index= betas, columns= x1.columns)"
   ]
  },
  {
   "cell_type": "code",
   "execution_count": 354,
   "metadata": {},
   "outputs": [
    {
     "data": {
      "text/html": [
       "<div>\n",
       "<style scoped>\n",
       "    .dataframe tbody tr th:only-of-type {\n",
       "        vertical-align: middle;\n",
       "    }\n",
       "\n",
       "    .dataframe tbody tr th {\n",
       "        vertical-align: top;\n",
       "    }\n",
       "\n",
       "    .dataframe thead th {\n",
       "        text-align: right;\n",
       "    }\n",
       "</style>\n",
       "<table border=\"1\" class=\"dataframe\">\n",
       "  <thead>\n",
       "    <tr style=\"text-align: right;\">\n",
       "      <th></th>\n",
       "      <th>betas</th>\n",
       "    </tr>\n",
       "  </thead>\n",
       "  <tbody>\n",
       "    <tr>\n",
       "      <th>origcapital</th>\n",
       "      <td>0.701</td>\n",
       "    </tr>\n",
       "    <tr>\n",
       "      <th>mqvt</th>\n",
       "      <td>0.396</td>\n",
       "    </tr>\n",
       "    <tr>\n",
       "      <th>mci</th>\n",
       "      <td>0.381</td>\n",
       "    </tr>\n",
       "    <tr>\n",
       "      <th>mlid</th>\n",
       "      <td>0.320</td>\n",
       "    </tr>\n",
       "    <tr>\n",
       "      <th>mpa</th>\n",
       "      <td>0.278</td>\n",
       "    </tr>\n",
       "    <tr>\n",
       "      <th>clt</th>\n",
       "      <td>0.237</td>\n",
       "    </tr>\n",
       "    <tr>\n",
       "      <th>fxsalarial</th>\n",
       "      <td>0.100</td>\n",
       "    </tr>\n",
       "    <tr>\n",
       "      <th>escolaridade</th>\n",
       "      <td>0.047</td>\n",
       "    </tr>\n",
       "    <tr>\n",
       "      <th>categ_futnaemp</th>\n",
       "      <td>0.029</td>\n",
       "    </tr>\n",
       "    <tr>\n",
       "      <th>retnaemp</th>\n",
       "      <td>0.008</td>\n",
       "    </tr>\n",
       "    <tr>\n",
       "      <th>mestr</th>\n",
       "      <td>-0.002</td>\n",
       "    </tr>\n",
       "    <tr>\n",
       "      <th>rotgeral</th>\n",
       "      <td>-0.006</td>\n",
       "    </tr>\n",
       "    <tr>\n",
       "      <th>anos de operação no Brasil</th>\n",
       "      <td>-0.009</td>\n",
       "    </tr>\n",
       "    <tr>\n",
       "      <th>tempempr</th>\n",
       "      <td>-0.009</td>\n",
       "    </tr>\n",
       "    <tr>\n",
       "      <th>cargo</th>\n",
       "      <td>-0.014</td>\n",
       "    </tr>\n",
       "    <tr>\n",
       "      <th>genz</th>\n",
       "      <td>-0.015</td>\n",
       "    </tr>\n",
       "    <tr>\n",
       "      <th>meb</th>\n",
       "      <td>-0.016</td>\n",
       "    </tr>\n",
       "    <tr>\n",
       "      <th>rot_vol</th>\n",
       "      <td>-0.042</td>\n",
       "    </tr>\n",
       "    <tr>\n",
       "      <th>prevquadro</th>\n",
       "      <td>-0.046</td>\n",
       "    </tr>\n",
       "    <tr>\n",
       "      <th>loctrab</th>\n",
       "      <td>-0.057</td>\n",
       "    </tr>\n",
       "    <tr>\n",
       "      <th>msd</th>\n",
       "      <td>-0.075</td>\n",
       "    </tr>\n",
       "    <tr>\n",
       "      <th>tipinstitu</th>\n",
       "      <td>-0.093</td>\n",
       "    </tr>\n",
       "    <tr>\n",
       "      <th>mri</th>\n",
       "      <td>-0.101</td>\n",
       "    </tr>\n",
       "    <tr>\n",
       "      <th>mpo</th>\n",
       "      <td>-0.113</td>\n",
       "    </tr>\n",
       "    <tr>\n",
       "      <th>150m</th>\n",
       "      <td>-0.116</td>\n",
       "    </tr>\n",
       "    <tr>\n",
       "      <th>setor</th>\n",
       "      <td>-0.123</td>\n",
       "    </tr>\n",
       "    <tr>\n",
       "      <th>mgc</th>\n",
       "      <td>-0.133</td>\n",
       "    </tr>\n",
       "    <tr>\n",
       "      <th>mrec</th>\n",
       "      <td>-0.149</td>\n",
       "    </tr>\n",
       "    <tr>\n",
       "      <th>sexo</th>\n",
       "      <td>-0.211</td>\n",
       "    </tr>\n",
       "    <tr>\n",
       "      <th>medc</th>\n",
       "      <td>-0.299</td>\n",
       "    </tr>\n",
       "    <tr>\n",
       "      <th>capitaberto</th>\n",
       "      <td>-0.474</td>\n",
       "    </tr>\n",
       "    <tr>\n",
       "      <th>totempr</th>\n",
       "      <td>-1.203</td>\n",
       "    </tr>\n",
       "  </tbody>\n",
       "</table>\n",
       "</div>"
      ],
      "text/plain": [
       "                            betas\n",
       "origcapital                 0.701\n",
       "mqvt                        0.396\n",
       "mci                         0.381\n",
       "mlid                        0.320\n",
       "mpa                         0.278\n",
       "clt                         0.237\n",
       "fxsalarial                  0.100\n",
       "escolaridade                0.047\n",
       "categ_futnaemp              0.029\n",
       "retnaemp                    0.008\n",
       "mestr                      -0.002\n",
       "rotgeral                   -0.006\n",
       "anos de operação no Brasil -0.009\n",
       "tempempr                   -0.009\n",
       "cargo                      -0.014\n",
       "genz                       -0.015\n",
       "meb                        -0.016\n",
       "rot_vol                    -0.042\n",
       "prevquadro                 -0.046\n",
       "loctrab                    -0.057\n",
       "msd                        -0.075\n",
       "tipinstitu                 -0.093\n",
       "mri                        -0.101\n",
       "mpo                        -0.113\n",
       "150m                       -0.116\n",
       "setor                      -0.123\n",
       "mgc                        -0.133\n",
       "mrec                       -0.149\n",
       "sexo                       -0.211\n",
       "medc                       -0.299\n",
       "capitaberto                -0.474\n",
       "totempr                    -1.203"
      ]
     },
     "execution_count": 354,
     "metadata": {},
     "output_type": "execute_result"
    }
   ],
   "source": [
    "coef= coef.T\n",
    "coef.sort_values(['betas'], ascending= False).round(3)"
   ]
  },
  {
   "cell_type": "code",
   "execution_count": 358,
   "metadata": {},
   "outputs": [],
   "source": [
    "coef.to_excel('coef_teste.xls', sheet_name= 'sheet1')"
   ]
  },
  {
   "cell_type": "markdown",
   "metadata": {},
   "source": [
    "# Modelo para prever desempenho (Randon Forest)"
   ]
  },
  {
   "cell_type": "code",
   "execution_count": 273,
   "metadata": {},
   "outputs": [
    {
     "data": {
      "text/plain": [
       "RandomForestClassifier(bootstrap=True, class_weight=None, criterion='gini',\n",
       "            max_depth=None, max_features='auto', max_leaf_nodes=None,\n",
       "            min_impurity_decrease=0.0, min_impurity_split=None,\n",
       "            min_samples_leaf=1, min_samples_split=2,\n",
       "            min_weight_fraction_leaf=0.0, n_estimators=600, n_jobs=None,\n",
       "            oob_score=False, random_state=None, verbose=0,\n",
       "            warm_start=False)"
      ]
     },
     "execution_count": 273,
     "metadata": {},
     "output_type": "execute_result"
    }
   ],
   "source": [
    "from sklearn.ensemble import RandomForestClassifier\n",
    "from sklearn.ensemble import ExtraTreesClassifier\n",
    "rfc = RandomForestClassifier(n_estimators=600)\n",
    "rfc.fit(x1_train, y_train)"
   ]
  },
  {
   "cell_type": "code",
   "execution_count": 274,
   "metadata": {},
   "outputs": [],
   "source": [
    "rfc_pred = rfc.predict(x1_test)"
   ]
  },
  {
   "cell_type": "code",
   "execution_count": 275,
   "metadata": {},
   "outputs": [
    {
     "name": "stdout",
     "output_type": "stream",
     "text": [
      "              precision    recall  f1-score   support\n",
      "\n",
      "           1       0.88      0.62      0.73       258\n",
      "           2       0.69      0.91      0.79       240\n",
      "\n",
      "   micro avg       0.76      0.76      0.76       498\n",
      "   macro avg       0.79      0.77      0.76       498\n",
      "weighted avg       0.79      0.76      0.76       498\n",
      "\n"
     ]
    }
   ],
   "source": [
    "print(classification_report(y_test,rfc_pred))"
   ]
  },
  {
   "cell_type": "code",
   "execution_count": 276,
   "metadata": {},
   "outputs": [],
   "source": [
    "taxaforest_acerto = accuracy_score(y_test, rfc_pred)"
   ]
  },
  {
   "cell_type": "code",
   "execution_count": 277,
   "metadata": {},
   "outputs": [
    {
     "data": {
      "text/plain": [
       "0.7610441767068273"
      ]
     },
     "execution_count": 277,
     "metadata": {},
     "output_type": "execute_result"
    }
   ],
   "source": [
    "taxaforest_acerto"
   ]
  },
  {
   "cell_type": "code",
   "execution_count": 278,
   "metadata": {},
   "outputs": [
    {
     "name": "stderr",
     "output_type": "stream",
     "text": [
      "C:\\Users\\silva\\Anaconda3\\lib\\site-packages\\sklearn\\ensemble\\forest.py:246: FutureWarning: The default value of n_estimators will change from 10 in version 0.20 to 100 in 0.22.\n",
      "  \"10 in version 0.20 to 100 in 0.22.\", FutureWarning)\n"
     ]
    }
   ],
   "source": []
  },
  {
   "cell_type": "code",
   "execution_count": 320,
   "metadata": {},
   "outputs": [],
   "source": [
    "gp= ['grupo previsto']\n",
    "rfc_predbd = pd.DataFrame(rfc_pred, columns= gp)"
   ]
  },
  {
   "cell_type": "code",
   "execution_count": 321,
   "metadata": {},
   "outputs": [],
   "source": [
    "y_testbd= pd.DataFrame(y_test)"
   ]
  },
  {
   "cell_type": "code",
   "execution_count": 322,
   "metadata": {},
   "outputs": [],
   "source": [
    "finalforest= pd.concat([x1_test.reset_index(), y_testbd.reset_index(), rfc_predbd], axis=1)"
   ]
  },
  {
   "cell_type": "code",
   "execution_count": 323,
   "metadata": {},
   "outputs": [
    {
     "data": {
      "text/html": [
       "<div>\n",
       "<style scoped>\n",
       "    .dataframe tbody tr th:only-of-type {\n",
       "        vertical-align: middle;\n",
       "    }\n",
       "\n",
       "    .dataframe tbody tr th {\n",
       "        vertical-align: top;\n",
       "    }\n",
       "\n",
       "    .dataframe thead th {\n",
       "        text-align: right;\n",
       "    }\n",
       "</style>\n",
       "<table border=\"1\" class=\"dataframe\">\n",
       "  <thead>\n",
       "    <tr style=\"text-align: right;\">\n",
       "      <th></th>\n",
       "      <th>index</th>\n",
       "      <th>150m</th>\n",
       "      <th>tipinstitu</th>\n",
       "      <th>genz</th>\n",
       "      <th>origcapital</th>\n",
       "      <th>capitaberto</th>\n",
       "      <th>setor</th>\n",
       "      <th>anos de operação no Brasil</th>\n",
       "      <th>totempr</th>\n",
       "      <th>prevquadro</th>\n",
       "      <th>...</th>\n",
       "      <th>mqvt</th>\n",
       "      <th>medc</th>\n",
       "      <th>mlid</th>\n",
       "      <th>mrec</th>\n",
       "      <th>mestr</th>\n",
       "      <th>rot_vol</th>\n",
       "      <th>categ_futnaemp</th>\n",
       "      <th>index</th>\n",
       "      <th>fx_desemp</th>\n",
       "      <th>grupo previsto</th>\n",
       "    </tr>\n",
       "  </thead>\n",
       "  <tbody>\n",
       "    <tr>\n",
       "      <th>0</th>\n",
       "      <td>1847</td>\n",
       "      <td>1</td>\n",
       "      <td>1</td>\n",
       "      <td>1</td>\n",
       "      <td>2</td>\n",
       "      <td>1</td>\n",
       "      <td>5</td>\n",
       "      <td>35</td>\n",
       "      <td>2</td>\n",
       "      <td>2</td>\n",
       "      <td>...</td>\n",
       "      <td>4.625</td>\n",
       "      <td>4.571429</td>\n",
       "      <td>4.7</td>\n",
       "      <td>4.25</td>\n",
       "      <td>4.25</td>\n",
       "      <td>1.969873</td>\n",
       "      <td>5</td>\n",
       "      <td>1847</td>\n",
       "      <td>2</td>\n",
       "      <td>2</td>\n",
       "    </tr>\n",
       "    <tr>\n",
       "      <th>1</th>\n",
       "      <td>355</td>\n",
       "      <td>1</td>\n",
       "      <td>1</td>\n",
       "      <td>3</td>\n",
       "      <td>2</td>\n",
       "      <td>1</td>\n",
       "      <td>5</td>\n",
       "      <td>40</td>\n",
       "      <td>2</td>\n",
       "      <td>1</td>\n",
       "      <td>...</td>\n",
       "      <td>3.000</td>\n",
       "      <td>3.571429</td>\n",
       "      <td>3.9</td>\n",
       "      <td>3.25</td>\n",
       "      <td>4.00</td>\n",
       "      <td>3.888025</td>\n",
       "      <td>6</td>\n",
       "      <td>355</td>\n",
       "      <td>1</td>\n",
       "      <td>2</td>\n",
       "    </tr>\n",
       "    <tr>\n",
       "      <th>2</th>\n",
       "      <td>2087</td>\n",
       "      <td>1</td>\n",
       "      <td>2</td>\n",
       "      <td>1</td>\n",
       "      <td>1</td>\n",
       "      <td>1</td>\n",
       "      <td>4</td>\n",
       "      <td>60</td>\n",
       "      <td>2</td>\n",
       "      <td>1</td>\n",
       "      <td>...</td>\n",
       "      <td>5.000</td>\n",
       "      <td>5.000000</td>\n",
       "      <td>5.0</td>\n",
       "      <td>5.00</td>\n",
       "      <td>5.00</td>\n",
       "      <td>5.258900</td>\n",
       "      <td>5</td>\n",
       "      <td>2087</td>\n",
       "      <td>2</td>\n",
       "      <td>2</td>\n",
       "    </tr>\n",
       "    <tr>\n",
       "      <th>3</th>\n",
       "      <td>2023</td>\n",
       "      <td>1</td>\n",
       "      <td>2</td>\n",
       "      <td>3</td>\n",
       "      <td>2</td>\n",
       "      <td>1</td>\n",
       "      <td>5</td>\n",
       "      <td>126</td>\n",
       "      <td>2</td>\n",
       "      <td>2</td>\n",
       "      <td>...</td>\n",
       "      <td>3.250</td>\n",
       "      <td>3.000000</td>\n",
       "      <td>2.9</td>\n",
       "      <td>3.25</td>\n",
       "      <td>2.25</td>\n",
       "      <td>13.274336</td>\n",
       "      <td>3</td>\n",
       "      <td>2023</td>\n",
       "      <td>2</td>\n",
       "      <td>1</td>\n",
       "    </tr>\n",
       "    <tr>\n",
       "      <th>4</th>\n",
       "      <td>59</td>\n",
       "      <td>1</td>\n",
       "      <td>2</td>\n",
       "      <td>3</td>\n",
       "      <td>2</td>\n",
       "      <td>1</td>\n",
       "      <td>5</td>\n",
       "      <td>27</td>\n",
       "      <td>1</td>\n",
       "      <td>3</td>\n",
       "      <td>...</td>\n",
       "      <td>4.750</td>\n",
       "      <td>4.857143</td>\n",
       "      <td>5.0</td>\n",
       "      <td>5.00</td>\n",
       "      <td>5.00</td>\n",
       "      <td>5.533597</td>\n",
       "      <td>3</td>\n",
       "      <td>59</td>\n",
       "      <td>1</td>\n",
       "      <td>2</td>\n",
       "    </tr>\n",
       "  </tbody>\n",
       "</table>\n",
       "<p>5 rows × 36 columns</p>\n",
       "</div>"
      ],
      "text/plain": [
       "   index  150m  tipinstitu  genz  origcapital  capitaberto  setor  \\\n",
       "0   1847     1           1     1            2            1      5   \n",
       "1    355     1           1     3            2            1      5   \n",
       "2   2087     1           2     1            1            1      4   \n",
       "3   2023     1           2     3            2            1      5   \n",
       "4     59     1           2     3            2            1      5   \n",
       "\n",
       "   anos de operação no Brasil  totempr  prevquadro  ...   mqvt      medc  \\\n",
       "0                          35        2           2  ...  4.625  4.571429   \n",
       "1                          40        2           1  ...  3.000  3.571429   \n",
       "2                          60        2           1  ...  5.000  5.000000   \n",
       "3                         126        2           2  ...  3.250  3.000000   \n",
       "4                          27        1           3  ...  4.750  4.857143   \n",
       "\n",
       "   mlid  mrec  mestr    rot_vol  categ_futnaemp  index  fx_desemp  \\\n",
       "0   4.7  4.25   4.25   1.969873               5   1847          2   \n",
       "1   3.9  3.25   4.00   3.888025               6    355          1   \n",
       "2   5.0  5.00   5.00   5.258900               5   2087          2   \n",
       "3   2.9  3.25   2.25  13.274336               3   2023          2   \n",
       "4   5.0  5.00   5.00   5.533597               3     59          1   \n",
       "\n",
       "   grupo previsto  \n",
       "0               2  \n",
       "1               2  \n",
       "2               2  \n",
       "3               1  \n",
       "4               2  \n",
       "\n",
       "[5 rows x 36 columns]"
      ]
     },
     "execution_count": 323,
     "metadata": {},
     "output_type": "execute_result"
    }
   ],
   "source": [
    "finalforest.head()"
   ]
  },
  {
   "cell_type": "code",
   "execution_count": 328,
   "metadata": {},
   "outputs": [
    {
     "name": "stderr",
     "output_type": "stream",
     "text": [
      "C:\\Users\\silva\\Anaconda3\\lib\\site-packages\\sklearn\\ensemble\\forest.py:246: FutureWarning: The default value of n_estimators will change from 10 in version 0.20 to 100 in 0.22.\n",
      "  \"10 in version 0.20 to 100 in 0.22.\", FutureWarning)\n"
     ]
    }
   ],
   "source": [
    "forest = ExtraTreesClassifier()\n",
    "forest.fit(x1_train, y_train)\n",
    "importanciasarr = forest.feature_importances_"
   ]
  },
  {
   "cell_type": "code",
   "execution_count": 329,
   "metadata": {},
   "outputs": [],
   "source": [
    "importancias= ['importâncias']\n",
    "importanciastab= pd.DataFrame(data= importanciasarr, index= x1.columns, columns= importancias).round(3)"
   ]
  },
  {
   "cell_type": "code",
   "execution_count": 336,
   "metadata": {},
   "outputs": [
    {
     "data": {
      "text/html": [
       "<div>\n",
       "<style scoped>\n",
       "    .dataframe tbody tr th:only-of-type {\n",
       "        vertical-align: middle;\n",
       "    }\n",
       "\n",
       "    .dataframe tbody tr th {\n",
       "        vertical-align: top;\n",
       "    }\n",
       "\n",
       "    .dataframe thead th {\n",
       "        text-align: right;\n",
       "    }\n",
       "</style>\n",
       "<table border=\"1\" class=\"dataframe\">\n",
       "  <thead>\n",
       "    <tr style=\"text-align: right;\">\n",
       "      <th></th>\n",
       "      <th>importâncias</th>\n",
       "    </tr>\n",
       "  </thead>\n",
       "  <tbody>\n",
       "    <tr>\n",
       "      <th>totempr</th>\n",
       "      <td>0.180</td>\n",
       "    </tr>\n",
       "    <tr>\n",
       "      <th>capitaberto</th>\n",
       "      <td>0.047</td>\n",
       "    </tr>\n",
       "    <tr>\n",
       "      <th>anos de operação no Brasil</th>\n",
       "      <td>0.047</td>\n",
       "    </tr>\n",
       "    <tr>\n",
       "      <th>rot_vol</th>\n",
       "      <td>0.039</td>\n",
       "    </tr>\n",
       "    <tr>\n",
       "      <th>setor</th>\n",
       "      <td>0.031</td>\n",
       "    </tr>\n",
       "    <tr>\n",
       "      <th>fxsalarial</th>\n",
       "      <td>0.029</td>\n",
       "    </tr>\n",
       "    <tr>\n",
       "      <th>rotgeral</th>\n",
       "      <td>0.029</td>\n",
       "    </tr>\n",
       "    <tr>\n",
       "      <th>medc</th>\n",
       "      <td>0.028</td>\n",
       "    </tr>\n",
       "    <tr>\n",
       "      <th>mqvt</th>\n",
       "      <td>0.028</td>\n",
       "    </tr>\n",
       "    <tr>\n",
       "      <th>retnaemp</th>\n",
       "      <td>0.027</td>\n",
       "    </tr>\n",
       "    <tr>\n",
       "      <th>mlid</th>\n",
       "      <td>0.027</td>\n",
       "    </tr>\n",
       "    <tr>\n",
       "      <th>categ_futnaemp</th>\n",
       "      <td>0.027</td>\n",
       "    </tr>\n",
       "    <tr>\n",
       "      <th>cargo</th>\n",
       "      <td>0.026</td>\n",
       "    </tr>\n",
       "    <tr>\n",
       "      <th>mpa</th>\n",
       "      <td>0.026</td>\n",
       "    </tr>\n",
       "    <tr>\n",
       "      <th>loctrab</th>\n",
       "      <td>0.026</td>\n",
       "    </tr>\n",
       "    <tr>\n",
       "      <th>mestr</th>\n",
       "      <td>0.026</td>\n",
       "    </tr>\n",
       "    <tr>\n",
       "      <th>mrec</th>\n",
       "      <td>0.026</td>\n",
       "    </tr>\n",
       "    <tr>\n",
       "      <th>escolaridade</th>\n",
       "      <td>0.026</td>\n",
       "    </tr>\n",
       "    <tr>\n",
       "      <th>tempempr</th>\n",
       "      <td>0.026</td>\n",
       "    </tr>\n",
       "    <tr>\n",
       "      <th>mgc</th>\n",
       "      <td>0.025</td>\n",
       "    </tr>\n",
       "    <tr>\n",
       "      <th>mri</th>\n",
       "      <td>0.025</td>\n",
       "    </tr>\n",
       "    <tr>\n",
       "      <th>tipinstitu</th>\n",
       "      <td>0.025</td>\n",
       "    </tr>\n",
       "    <tr>\n",
       "      <th>msd</th>\n",
       "      <td>0.024</td>\n",
       "    </tr>\n",
       "    <tr>\n",
       "      <th>150m</th>\n",
       "      <td>0.024</td>\n",
       "    </tr>\n",
       "    <tr>\n",
       "      <th>origcapital</th>\n",
       "      <td>0.023</td>\n",
       "    </tr>\n",
       "    <tr>\n",
       "      <th>mpo</th>\n",
       "      <td>0.022</td>\n",
       "    </tr>\n",
       "    <tr>\n",
       "      <th>prevquadro</th>\n",
       "      <td>0.022</td>\n",
       "    </tr>\n",
       "    <tr>\n",
       "      <th>genz</th>\n",
       "      <td>0.022</td>\n",
       "    </tr>\n",
       "    <tr>\n",
       "      <th>mci</th>\n",
       "      <td>0.021</td>\n",
       "    </tr>\n",
       "    <tr>\n",
       "      <th>sexo</th>\n",
       "      <td>0.017</td>\n",
       "    </tr>\n",
       "    <tr>\n",
       "      <th>meb</th>\n",
       "      <td>0.016</td>\n",
       "    </tr>\n",
       "    <tr>\n",
       "      <th>clt</th>\n",
       "      <td>0.016</td>\n",
       "    </tr>\n",
       "  </tbody>\n",
       "</table>\n",
       "</div>"
      ],
      "text/plain": [
       "                            importâncias\n",
       "totempr                            0.180\n",
       "capitaberto                        0.047\n",
       "anos de operação no Brasil         0.047\n",
       "rot_vol                            0.039\n",
       "setor                              0.031\n",
       "fxsalarial                         0.029\n",
       "rotgeral                           0.029\n",
       "medc                               0.028\n",
       "mqvt                               0.028\n",
       "retnaemp                           0.027\n",
       "mlid                               0.027\n",
       "categ_futnaemp                     0.027\n",
       "cargo                              0.026\n",
       "mpa                                0.026\n",
       "loctrab                            0.026\n",
       "mestr                              0.026\n",
       "mrec                               0.026\n",
       "escolaridade                       0.026\n",
       "tempempr                           0.026\n",
       "mgc                                0.025\n",
       "mri                                0.025\n",
       "tipinstitu                         0.025\n",
       "msd                                0.024\n",
       "150m                               0.024\n",
       "origcapital                        0.023\n",
       "mpo                                0.022\n",
       "prevquadro                         0.022\n",
       "genz                               0.022\n",
       "mci                                0.021\n",
       "sexo                               0.017\n",
       "meb                                0.016\n",
       "clt                                0.016"
      ]
     },
     "execution_count": 336,
     "metadata": {},
     "output_type": "execute_result"
    }
   ],
   "source": [
    "importanciastab.sort_values(['importâncias'], ascending= False)"
   ]
  },
  {
   "cell_type": "code",
   "execution_count": 331,
   "metadata": {},
   "outputs": [],
   "source": [
    "importanciastab.to_excel('importancias_teste.xls', sheet_name= 'sheet1')"
   ]
  },
  {
   "cell_type": "code",
   "execution_count": 332,
   "metadata": {},
   "outputs": [],
   "source": [
    "finalforest.to_excel('finalforest_teste.xls', sheet_name= 'sheet1')"
   ]
  },
  {
   "cell_type": "code",
   "execution_count": null,
   "metadata": {},
   "outputs": [],
   "source": []
  }
 ],
 "metadata": {
  "kernelspec": {
   "display_name": "Python 3",
   "language": "python",
   "name": "python3"
  },
  "language_info": {
   "codemirror_mode": {
    "name": "ipython",
    "version": 3
   },
   "file_extension": ".py",
   "mimetype": "text/x-python",
   "name": "python",
   "nbconvert_exporter": "python",
   "pygments_lexer": "ipython3",
   "version": "3.6.5"
  }
 },
 "nbformat": 4,
 "nbformat_minor": 1
}
